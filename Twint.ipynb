{
 "cells": [
  {
   "cell_type": "code",
   "execution_count": 1,
   "metadata": {
    "scrolled": true
   },
   "outputs": [],
   "source": [
    "# Imports and installs\n",
    "\n",
    "import twint\n",
    "# Solved compatibility issues with notebooks and RunTime errors\n",
    "# !pip install nest_asyncio\n",
    "import nest_asyncio\n",
    "nest_asyncio.apply()\n",
    "\n",
    "import time\n",
    "from tqdm import tqdm\n",
    "import pandas as pd\n",
    "import pickle"
   ]
  },
  {
   "cell_type": "code",
   "execution_count": 2,
   "metadata": {},
   "outputs": [],
   "source": [
    "c = twint.Config()"
   ]
  },
  {
   "cell_type": "code",
   "execution_count": 3,
   "metadata": {},
   "outputs": [],
   "source": [
    "def get_sneaker_tweets(sneakers):\n",
    "    df = pd.DataFrame()\n",
    "    for sneaker in tqdm(sneakers):\n",
    "        c.Search = sneaker\n",
    "        c.Verified = False\n",
    "        c.Lang = 'en'\n",
    "        c.Limit = 2000 # Gets increments of 20\n",
    "        c.Pandas = True\n",
    "        c.Hide_output = True\n",
    "\n",
    "        twint.run.Search(c)\n",
    "        t = twint.storage.panda.Tweets_df\n",
    "        df = pd.concat([df, t])\n",
    "    df.to_pickle(\"./df.pkl\")"
   ]
  },
  {
   "cell_type": "markdown",
   "metadata": {},
   "source": [
    "## Adidas"
   ]
  },
  {
   "cell_type": "code",
   "execution_count": 4,
   "metadata": {},
   "outputs": [],
   "source": [
    "# c.Username = 'adidas'\n",
    "# c.Verified = True\n",
    "# c.Since = '2011-05-01'\n",
    "# c.Pandas = True\n",
    "\n",
    "# twint.run.Search(c)\n",
    "# df_adidas = twint.storage.panda.Tweets_df\n",
    "# df_adidas.to_pickle(\"./df_adidas.pkl\")"
   ]
  },
  {
   "cell_type": "code",
   "execution_count": 5,
   "metadata": {},
   "outputs": [],
   "source": [
    "# best_adidas = ['Adidas Superstar',\n",
    "#                'Pharrell Williams Tennis Hu',\n",
    "#                'Adidas Swift Run',\n",
    "#                'Adidas Stan Smith',\n",
    "#                'Adidas Yung-1',\n",
    "#                'Adidas NMD_R1 Primeknit',\n",
    "#                'Adidas Sobakov',\n",
    "#                'Adidas Yung-96',\n",
    "#                'Adidas Continental 80',\n",
    "#                'Adidas POD-S3.1',\n",
    "#                'Adidas Grand Court',\n",
    "#                'Adidas EQT Support 93/17',\n",
    "#                'Adidas I-5923',\n",
    "#                'Adidas Cloudfoam Ultimate',\n",
    "#                'Adidas Nite Jogger']"
   ]
  },
  {
   "cell_type": "code",
   "execution_count": 6,
   "metadata": {
    "scrolled": true
   },
   "outputs": [],
   "source": [
    "# get_sneaker_tweets(adidas_best)"
   ]
  },
  {
   "cell_type": "code",
   "execution_count": 7,
   "metadata": {},
   "outputs": [],
   "source": [
    "# with open('./Pickles/all_adidas_names.pickle', 'rb') as f:\n",
    "#     all_adidas_names = pickle.load(f)"
   ]
  },
  {
   "cell_type": "code",
   "execution_count": 8,
   "metadata": {},
   "outputs": [],
   "source": [
    "# len(all_adidas_names)"
   ]
  },
  {
   "cell_type": "code",
   "execution_count": 9,
   "metadata": {
    "scrolled": true
   },
   "outputs": [],
   "source": [
    "# get_sneaker_tweets(all_adidas_names[300:627])"
   ]
  },
  {
   "cell_type": "markdown",
   "metadata": {},
   "source": [
    "## Nike"
   ]
  },
  {
   "cell_type": "code",
   "execution_count": 10,
   "metadata": {},
   "outputs": [],
   "source": [
    "# c.Username = 'Nike'\n",
    "# c.Verified = True\n",
    "# c.Since = '2011-11-01'\n",
    "# c.Pandas = True\n",
    "\n",
    "# twint.run.Search(c)\n",
    "# df_nike = twint.storage.panda.Tweets_df\n",
    "# df_nike.to_pickle(\"./df_nike.pkl\")"
   ]
  },
  {
   "cell_type": "code",
   "execution_count": 11,
   "metadata": {},
   "outputs": [],
   "source": [
    "# best_nike = ['Nike Tanjun',\n",
    "#              'Nike Air Force 1 Low',\n",
    "#              'Nike Air Max Motion 2',\n",
    "#              'Nike Air Max 270',\n",
    "#              'Nike Air Max 270 Bowfin',\n",
    "#              'Nike Lunar Force 1 Duckboot',\n",
    "#              'Nike Ebernon Low',\n",
    "#              'Nike M2K Tekno',\n",
    "#              'Nike Air Max 95',\n",
    "#              'Nike Air Force 1 07',\n",
    "#              'Nike Air Max 98',\n",
    "#              'Nike EXP-X14',\n",
    "#              'Nike React Element 55',\n",
    "#              'Nike Air Max 720',\n",
    "#              'Nike Air VaporMax Plus']"
   ]
  },
  {
   "cell_type": "code",
   "execution_count": 12,
   "metadata": {},
   "outputs": [],
   "source": [
    "# get_sneaker_tweets(nike_best)"
   ]
  },
  {
   "cell_type": "code",
   "execution_count": 13,
   "metadata": {},
   "outputs": [],
   "source": [
    "# with open('./Pickles/all_nike_names.pickle', 'rb') as f:\n",
    "#     all_nike_names = pickle.load(f)"
   ]
  },
  {
   "cell_type": "code",
   "execution_count": 14,
   "metadata": {},
   "outputs": [],
   "source": [
    "# len(all_nike_names)"
   ]
  },
  {
   "cell_type": "code",
   "execution_count": 15,
   "metadata": {},
   "outputs": [],
   "source": [
    "# get_sneaker_tweets(all_nike_names)"
   ]
  }
 ],
 "metadata": {
  "kernelspec": {
   "display_name": "Python 3",
   "language": "python",
   "name": "python3"
  },
  "language_info": {
   "codemirror_mode": {
    "name": "ipython",
    "version": 3
   },
   "file_extension": ".py",
   "mimetype": "text/x-python",
   "name": "python",
   "nbconvert_exporter": "python",
   "pygments_lexer": "ipython3",
   "version": "3.7.3"
  }
 },
 "nbformat": 4,
 "nbformat_minor": 2
}
