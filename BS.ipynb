{
 "cells": [
  {
   "cell_type": "code",
   "execution_count": 1,
   "metadata": {},
   "outputs": [],
   "source": [
    "# Imports\n",
    "\n",
    "import time\n",
    "from tqdm import tqdm\n",
    "import requests\n",
    "from bs4 import BeautifulSoup\n",
    "import pandas as pd\n",
    "import pickle"
   ]
  },
  {
   "cell_type": "code",
   "execution_count": 2,
   "metadata": {},
   "outputs": [],
   "source": [
    "def get_score(sneakers):\n",
    "    sneakers_scores = []\n",
    "    for sneaker in tqdm(sneakers):\n",
    "        name = sneaker\n",
    "        try:\n",
    "            sneaker = sneaker.replace(' ', '+')\n",
    "            html_page = requests.get(f'https://runrepeat.com/search?q={sneaker}')\n",
    "            soup = BeautifulSoup(html_page.content, 'html.parser')\n",
    "            body = soup.body\n",
    "            scores = body.find_all('div', class_='overall_score')\n",
    "            score = scores[0].get_text()\n",
    "            d = {'name': name, 'score': score}\n",
    "            sneakers_scores.append(d)\n",
    "            time.sleep(1)\n",
    "        except:\n",
    "            print(sneaker)\n",
    "    with open('sneakers_scores.pickle', 'wb') as f:\n",
    "        pickle.dump(sneakers_scores, f, pickle.HIGHEST_PROTOCOL)"
   ]
  },
  {
   "cell_type": "code",
   "execution_count": 3,
   "metadata": {},
   "outputs": [],
   "source": [
    "def get_summary(sneakers):\n",
    "    sneakers_summaries = []\n",
    "    for sneaker in tqdm(sneakers):\n",
    "        name = sneaker\n",
    "        try:\n",
    "            sneaker = sneaker.lower()\n",
    "            sneaker = sneaker.replace(' ', '-')\n",
    "            sneaker = sneaker.replace('_', '-')\n",
    "            sneaker = sneaker.replace('.', '')\n",
    "            sneaker = sneaker.replace('/', '')\n",
    "            html_page = requests.get(f'https://runrepeat.com/{sneaker}')\n",
    "            soup = BeautifulSoup(html_page.content, 'html.parser')\n",
    "            body = soup.body\n",
    "            summary = body.find_all('div', class_='good-bad gb-type-bad')\n",
    "            pro_n = int(summary[0].find('h3').get_text()[3:5])\n",
    "            con_n = int(summary[1].find('h3').get_text()[3:5])\n",
    "            pro_t = [summary[0].find('ul').find_all('li')[i].get_text() for i in range(0, pro_n)]\n",
    "            con_t = [summary[1].find('ul').find_all('li')[i].get_text() for i in range(0, con_n)]\n",
    "            summary_bottom = body.find_all('div', class_='good-bad gb-type-bottom_line')\n",
    "            bottom_t = summary_bottom[0].get_text()[30:-3]\n",
    "            d = {'name': name, 'pro_nums': pro_n, 'pro_text': pro_t, 'con_nums': con_n, 'con_text': con_t, 'bottom_line': bottom_t}\n",
    "            sneakers_summaries.append(d)\n",
    "            time.sleep(1)\n",
    "        except:\n",
    "            print(sneaker)\n",
    "    with open('sneakers_summaries.pickle', 'wb') as f:\n",
    "        pickle.dump(sneakers_summaries, f, pickle.HIGHEST_PROTOCOL)"
   ]
  },
  {
   "cell_type": "markdown",
   "metadata": {},
   "source": [
    "## Adidas"
   ]
  },
  {
   "cell_type": "code",
   "execution_count": 4,
   "metadata": {},
   "outputs": [],
   "source": [
    "def get_adidas_names():\n",
    "    all_adidas_names = []\n",
    "    for page in tqdm(range(1, 22)):\n",
    "        html_page = requests.get(f'https://runrepeat.com/ranking/rankings-of-adidas-sneakers?page={page}')\n",
    "        soup = BeautifulSoup(html_page.content, 'html.parser')\n",
    "        body = soup.body\n",
    "        names = body.find_all('div', class_='product-name hidden-md hidden-lg col-md-12 col-lg-12')\n",
    "        for i in tqdm(range(0, len(names))):\n",
    "            name = names[i].get_text()[1:-1]\n",
    "            all_adidas_names.append(name)\n",
    "            time.sleep(1)\n",
    "    with open('all_adidas_names.pickle', 'wb') as f:\n",
    "        pickle.dump(all_adidas_names, f, pickle.HIGHEST_PROTOCOL)"
   ]
  },
  {
   "cell_type": "code",
   "execution_count": 5,
   "metadata": {},
   "outputs": [],
   "source": [
    "# best_adidas = ['Adidas Superstar',\n",
    "#                'Pharrell Williams Tennis Hu',\n",
    "#                'Adidas Swift Run',\n",
    "#                'Adidas Stan Smith',\n",
    "#                'Adidas Yung-1',\n",
    "#                'Adidas NMD_R1 Primeknit',\n",
    "#                'Adidas Sobakov',\n",
    "#                'Adidas Yung-96',\n",
    "#                'Adidas Continental 80',\n",
    "#                'Adidas POD-S3.1',\n",
    "#                'Adidas Grand Court',\n",
    "#                'Adidas EQT Support 93/17',\n",
    "#                'Adidas I-5923',\n",
    "#                'Adidas Cloudfoam Ultimate',\n",
    "#                'Adidas Nite Jogger']"
   ]
  },
  {
   "cell_type": "code",
   "execution_count": 6,
   "metadata": {},
   "outputs": [],
   "source": [
    "# adidas_scores = get_score(best_adidas)"
   ]
  },
  {
   "cell_type": "code",
   "execution_count": 7,
   "metadata": {
    "scrolled": true
   },
   "outputs": [],
   "source": [
    "# adidas_summaries = get_summary(best_adidas)"
   ]
  },
  {
   "cell_type": "markdown",
   "metadata": {},
   "source": [
    "* adidas-eqt-support-9317\n",
    "* adidas-nite-jogger"
   ]
  },
  {
   "cell_type": "code",
   "execution_count": 8,
   "metadata": {
    "scrolled": true
   },
   "outputs": [],
   "source": [
    "# get_adidas_names()"
   ]
  },
  {
   "cell_type": "code",
   "execution_count": 9,
   "metadata": {},
   "outputs": [],
   "source": [
    "# with open('./Pickles/all_adidas_names.pickle', 'rb') as f:\n",
    "#     all_adidas_names = pickle.load(f)"
   ]
  },
  {
   "cell_type": "code",
   "execution_count": 10,
   "metadata": {
    "scrolled": true
   },
   "outputs": [],
   "source": [
    "# len(all_adidas_names)"
   ]
  },
  {
   "cell_type": "code",
   "execution_count": 11,
   "metadata": {
    "scrolled": true
   },
   "outputs": [],
   "source": [
    "# get_score(all_adidas_names)"
   ]
  },
  {
   "cell_type": "code",
   "execution_count": 12,
   "metadata": {
    "scrolled": true
   },
   "outputs": [],
   "source": [
    "# get_summary(all_adidas_names)"
   ]
  },
  {
   "cell_type": "markdown",
   "metadata": {},
   "source": [
    "* adidas-yung-96-\n",
    "* adidas-nite-jogger\n",
    "* adidas-nmd-r1\n",
    "* adidas-eqt-support-9317\n",
    "* adidas-top-ten-hi\n",
    "* adidas-micropacerxr1\n",
    "* adidas-kamanda-01\n",
    "* adidas-lite-racer-reborn\n",
    "* adidas-cloudfoam-race\n",
    "* adidas-tubular-doom-sock-primeknit\n",
    "* adidas-cloudfoam-lite-racer\n",
    "* adidas-matchcourt\n",
    "* adidas-busenitz-pro\n",
    "* adidas-iniki-runner\n",
    "* adidas-lite-racer-byd-\n",
    "* adidas-questar-rise\n",
    "* adidas-climacool-1\n",
    "* adidas-adiease\n",
    "* adidas-suciu-adv\n",
    "* adidas-boston-superxr1\n",
    "* adidas-lite-racer-cln\n",
    "* adidas-tubular-x-primeknit\n",
    "* adidas-gazelle-super\n",
    "* adidas-eqt-support-rf\n",
    "* adidas-eqt-support-adv-primeknit\n",
    "* adidas-zx930xeqt\n",
    "* adidas-stan-smith-boost\n",
    "* adidas-tubular-invader-strap\n",
    "* adidas-samba-adv\n",
    "* adidas-ultra-tech-\n",
    "* adidas-nmd-r1-stlt-parley-primeknit\n",
    "* adidas-tubular-instinct\n",
    "* adidas-nmd-ts1-primeknit\n",
    "* adidas-matchcourt-rx\n",
    "* adidas-samba-rm\n",
    "* adidas-lacombe\n",
    "* adidas-matchcourt-high-rx\n",
    "* adidas-run-70s-\n",
    "* adidas-busenitz-vulc-rx\n",
    "* adidas-lucas-premiere-adv\n",
    "* adidas-haven\n",
    "* adidas-eqt-support-ultra\n",
    "* adidas-nizza-rf-\n",
    "* adidas-court-vantage\n",
    "* adidas-cloudfoam-ilation-mid\n",
    "* adidas-jake-blauvelt-boot-\n",
    "* adidas-countryxkamanda\n",
    "* adidas-cloudfoam-super-daily\n",
    "* adidas-f13-le\n",
    "* adidas-cloudfoam-super-racer\n",
    "* adidas-nizza-hi\n",
    "* adidas-neighborhood-kamanda-01\n",
    "* adidas-zx-flux-primeknit\n",
    "* adidas-eqt-running-support\n",
    "* adidas-los-angeles-\n",
    "* adidas-cloudfoam-revival-mid\n",
    "* adidas-raleigh-9tis-mid\n",
    "* adidas-eqt-support-rf-primeknit\n",
    "* adidas-daily\n",
    "* adidas-tubular-nova-primeknit\n",
    "* adidas-samba-og-ft\n",
    "* adidas-eqt-support-ultra-primeknit\n",
    "* adidas-jeans\n",
    "* adidas-new-york\n",
    "* adidas-seeley-premiere-classified\n",
    "* adidas-nmd-r2-summer-\n",
    "* adidas-tubular-invader\n",
    "* adidas-se-daily-vulc\n",
    "* adidas-swift-run-barrier\n",
    "* adidas-city-cup-x-numbers-\n",
    "* adidas-stan-smith-vulc\n",
    "* adidas-a3-twinstrike\n",
    "* adidas-y-3-pure-boost\n",
    "* adidas-superstar-80s-primeknit\n",
    "* adidas-y-3-saikou\n",
    "* adidas-seeley-adv\n",
    "* adidas-bball80s\n",
    "* adidas-superstar-vulc-x-krooked-\n",
    "* adidas-y-3-qasa-boot\n",
    "* adidas-ua&sons-nmd-r2\n",
    "* adidas-questar-drive-\n",
    "* adidas-x-raf-simons-ozweego-2\n",
    "* adidas-neighborhood-stan-smith-boost\n",
    "* adidas-seeley-premiere\n",
    "* adidas-tubular-invader-20\n",
    "* adidas-seeley-x-ari-marcopoulos\n",
    "* adidas-pharrell-williams-bbc-hu-v2-\n",
    "* adidas-x-raf-simons-ozweego-bunny\n",
    "* adidas-wensley-spzl\n",
    "* adidas-rod-laver\n",
    "* adidas-wings-+-horns-nmd-r2-primeknit\n",
    "* adidas-matchcourt-adv\n",
    "* adidas-matchcourt-slip-mid-\n",
    "* adidas-adi-ease-kung-fu-\n",
    "* adidas-cloudfoam-flyer\n",
    "* adidas-raleigh-mid\n",
    "* nice-kicks-x-adidas-nmd\n",
    "* adidas-silas-vulc-adv\n",
    "* adidas-3mc-vulc-evisen\n",
    "* adidas-ua&sons-nmd-cs2-primeknit\n",
    "* adidas-climacool-1-laceless\n",
    "* adidas-koln-\n",
    "* adidas-white-mountaineering-nmd-r2\n",
    "* adidas-matchcourt-mid-remix-\n",
    "* adidas-campus-hairy-suede-\n",
    "* adidas-seeley-essentials\n",
    "* adidas-nmd-r1-x-bedwin-&-the-heartbreakers\n",
    "* adidas-bullhill-spzl\n",
    "* adidas-nmd-c1-trail\n",
    "* adidas-campus-2-+-nba\n",
    "* adidas-oyster-holdings-adidas-350\n",
    "* adidas-samba-recon-lt\n",
    "* adidas-true-street\n",
    "* adidas-torsion-comp\n",
    "* adidas-y-3-harigane-\n",
    "* adidas-topanga-clean\n",
    "* adidas-as-520-spzl\n",
    "* adidas-climacool-20\n",
    "* adidas-forum-hi-crafted\n",
    "* adidas-gazelle-super-x-alltimers\n",
    "* adidas-y-3-kusari-ii\n",
    "* adidas-y-3-yohji-super\n",
    "* adidas-y-3-ekika\n",
    "* adidas-harwood-spzl\n",
    "* adidas-cloudfoam-hoops-winter-mid\n",
    "* adidas-yung-96-\n",
    "* adidas-nite-jogger\n",
    "* adidas-nmd-r1\n",
    "* adidas-eqt-support-9317\n",
    "* adidas-top-ten-hi\n",
    "* adidas-micropacerxr1\n",
    "* adidas-kamanda-01"
   ]
  },
  {
   "cell_type": "markdown",
   "metadata": {},
   "source": [
    "## Nike"
   ]
  },
  {
   "cell_type": "code",
   "execution_count": 13,
   "metadata": {},
   "outputs": [],
   "source": [
    "def get_nike_names():\n",
    "    all_nike_names = []\n",
    "    for page in range(1, 18):\n",
    "        html_page = requests.get(f'https://runrepeat.com/ranking/rankings-of-nike-sneakers?page={page}')\n",
    "        soup = BeautifulSoup(html_page.content, 'html.parser')\n",
    "        body = soup.body\n",
    "        names = body.find_all('div', class_='product-name hidden-md hidden-lg col-md-12 col-lg-12')\n",
    "        for i in range(0, len(names)):\n",
    "            name = names[i].get_text()[1:-1]\n",
    "            all_nike_names.append(name)\n",
    "            time.sleep(1)\n",
    "    with open('all_nike_names.pickle', 'wb') as f:\n",
    "        pickle.dump(all_nike_names, f, pickle.HIGHEST_PROTOCOL)"
   ]
  },
  {
   "cell_type": "code",
   "execution_count": 14,
   "metadata": {},
   "outputs": [],
   "source": [
    "# best_nike = ['Nike Tanjun',\n",
    "#              'Nike Air Force 1 Low',\n",
    "#              'Nike Air Max Motion 2',\n",
    "#              'Nike Air Max 270',\n",
    "#              'Nike Air Max 270 Bowfin',\n",
    "#              'Nike Lunar Force 1 Duckboot',\n",
    "#              'Nike Ebernon Low',\n",
    "#              'Nike M2K Tekno',\n",
    "#              'Nike Air Max 95',\n",
    "#              'Nike Air Force 1 07',\n",
    "#              'Nike Air Max 98',\n",
    "#              'Nike EXP-X14',\n",
    "#              'Nike React Element 55',\n",
    "#              'Nike Air Max 720',\n",
    "#              'Nike Air VaporMax Plus']"
   ]
  },
  {
   "cell_type": "code",
   "execution_count": 15,
   "metadata": {},
   "outputs": [],
   "source": [
    "# nike_scores = get_score(nike_best)"
   ]
  },
  {
   "cell_type": "code",
   "execution_count": 16,
   "metadata": {
    "scrolled": true
   },
   "outputs": [],
   "source": [
    "# nike_summaries = get_summary(nike_best)"
   ]
  },
  {
   "cell_type": "markdown",
   "metadata": {},
   "source": [
    "* nike-lunar-force-1-duckboot\n",
    "* nike-air-max-95\n",
    "* nike-react-element-55\n",
    "* nike-air-max-720"
   ]
  },
  {
   "cell_type": "code",
   "execution_count": 17,
   "metadata": {
    "scrolled": true
   },
   "outputs": [],
   "source": [
    "# get_nike_names()"
   ]
  },
  {
   "cell_type": "code",
   "execution_count": 18,
   "metadata": {},
   "outputs": [],
   "source": [
    "# with open('./Pickles/all_nike_names.pickle', 'rb') as f:\n",
    "#     all_nike_names = pickle.load(f)"
   ]
  },
  {
   "cell_type": "code",
   "execution_count": 19,
   "metadata": {},
   "outputs": [],
   "source": [
    "# len(all_nike_names)"
   ]
  },
  {
   "cell_type": "code",
   "execution_count": 20,
   "metadata": {},
   "outputs": [],
   "source": [
    "# get_score(all_nike_names)"
   ]
  },
  {
   "cell_type": "code",
   "execution_count": 21,
   "metadata": {},
   "outputs": [],
   "source": [
    "# get_summary(all_nike_names)"
   ]
  },
  {
   "cell_type": "markdown",
   "metadata": {},
   "source": [
    "* nike-react-element-55\n",
    "* nike-air-max-720\n",
    "* nike-air-max-95\n",
    "* nike-air-force-1-07-lv8\n",
    "* nike-air-max-97\n",
    "* nike-air-max-90-essential\n",
    "* nike-lunar-force-1-duckboot\n",
    "* nike-dualtone-racer\n",
    "* nike-air-force-1-07-high\n",
    "* nike-air-presto-fly\n",
    "* nike-air-max-tavas\n",
    "* nike-air-max-motion-lw-se\n",
    "* nike-flight-bonafide\n",
    "* nike-air-shake-ndestrukt\n",
    "* nike-air-presto-mid-utility\n",
    "* nike-air-force-1-ultra-flyknit-low\n",
    "* nike-sb-blazer-zoom-low\n",
    "* nike-roshe-two-flyknit\n",
    "* nike-air-force-1-07-mid\n",
    "* nike-mayfly-woven\n",
    "* nike-benassi-slip-\n",
    "* nike-air-max-zero-essential\n",
    "* nike-air-force-1-utility\n",
    "* nike-shox-nz\n",
    "* nike-react-element-55-se-\n",
    "* nike-air-force-1-low-retro\n",
    "* nike-air-force-1-ultraforce-mid\n",
    "* nike-vortak\n",
    "* nike-sb-stefan-janoski-max-mid\n",
    "* nike-air-max-90-premium\n",
    "* nike-arrowz\n",
    "* nike-air-max-zero-qs\n",
    "* nike-air-max-1-ultra-flyknit\n",
    "* nike-roshe-two-se\n",
    "* nike-air-force-1-mid\n",
    "* nike-tennis-classic-ultra-flyknit\n",
    "* nike-air-trainer-1\n",
    "* nike-air-force-1-flyknit-low\n",
    "* nike-air-force-1-07-high-lv8\n",
    "* nike-air-max-90-ultra-essential\n",
    "* nike-sb-zoom-stefan-janoski-leather\n",
    "* nike-sb-blazer-premium-se\n",
    "* nike-sb-zoom-stefan-janoski-slip-on-canvas\n",
    "* nike-zoom-spiridon-ultra\n",
    "* nike-tennis-classic\n",
    "* nike-air-max-ld-zero\n",
    "* nike-sock-dart-se-premium\n",
    "* nike-sb-air-zoom-blazer-low-gt\n",
    "* nike-air-berwuda\n",
    "* nike-sb-dunk-low-pro\n",
    "* nike-air-force-1-ultra-flyknit-mid\n",
    "* nike-lebron-xiii-lifestyle\n",
    "* nike-air-max-plus-tn-ultra-\n",
    "* nike-air-max-97-og-metallic-silver\n",
    "* nike-air-huarache-ultra-breathe\n",
    "* nike-air-force-1-ultraforce-leather\n",
    "* nike-sb-dunk-low\n",
    "* nike-air-force-1-07-mid-lv8\n",
    "* nikelab-sock-dart-mid-x-stone-island\n",
    "* nike-sb-koston-hyperfeel-3\n",
    "* nike-air-max-modern-essential\n",
    "* nike-roshe-one-flyknit\n",
    "* nike-air-max-97-x-undefeated\n",
    "* nike-sb-zoom-stefan-janoski-ac\n",
    "* nike-blazer-advanced\n",
    "* nike-internationalist-mid\n",
    "* nike-blazer-low-suede\n",
    "* nike-air-footscape-woven-chukka-qs\n",
    "* nikelab-acg-07-kmtr\n",
    "* nike-air-force-1-ultra-flyknit\n",
    "* nike-air-force-1-07-premier\n",
    "* nikelab-air-max-1-pinnacle\n",
    "* nike-sb-stefan-janoski-hyperfeel\n",
    "* kith-x-nike-lebron-15-king's-crown\n",
    "* nike-air-max-1-ultra-20-se\n",
    "* nike-air-force-1-ultraforce\n",
    "* nike-sb-zoom-stefan-janoski-elite\n",
    "* nikelab-air-force-1-low\n",
    "* nike-sb-stefan-janoski-hyperfeel-xt\n",
    "* nike-air-presto-gpx\n",
    "* nike-shox-avenue-leather\n",
    "* nike-air-max-90-ultra-se-premium\n",
    "* nike-shox-avenue-premium\n",
    "* acronym-x-nikelab-air-force-1-downtown\n",
    "* nike-air-edge-270\n",
    "* nike-air-huarache-gripp\n",
    "* nike-air-wildwood-acg\n",
    "* supreme-x-nikelab-air-max-98\n",
    "* nike-air-max-deluxe\n",
    "* nike-sb-paul-rodriguez-9\n",
    "* nike-sb-zoom-blazer-chukka-xt\n",
    "* nike-air-scream-lwp\n",
    "* nike-air-force-1-premium-winter\n",
    "* nike-lunar-force-1-18\n",
    "* nike-acmi\n",
    "* nike-sb-fc-classic\n",
    "* nike-blazer-studio-low\n",
    "* nike-air-humara-17-premium\n",
    "* nike-sf-air-force-1-premium\n",
    "* nike-roshe-tiempo-vi-fc\n",
    "* nike-air-max-95-nrg\n",
    "* nike-air-max-deluxe-se\n",
    "* nike-air-force-1-07-lv8-4\n",
    "* nike-lupinek-flyknit-low\n",
    "* nike-air-safari-qs\n",
    "* nike-air-force-1-mid-07-lv8-uv\n",
    "* nike-lunar-force-1-duckboot-low-textile\n",
    "* nike-sb-zoom-janoski-canvas-rm\n",
    "* nike-daybreak\n",
    "* nike-air-force-1-07-lv8-2\n",
    "* nike-mayfly-og"
   ]
  }
 ],
 "metadata": {
  "kernelspec": {
   "display_name": "Python 3",
   "language": "python",
   "name": "python3"
  },
  "language_info": {
   "codemirror_mode": {
    "name": "ipython",
    "version": 3
   },
   "file_extension": ".py",
   "mimetype": "text/x-python",
   "name": "python",
   "nbconvert_exporter": "python",
   "pygments_lexer": "ipython3",
   "version": "3.7.3"
  }
 },
 "nbformat": 4,
 "nbformat_minor": 2
}
